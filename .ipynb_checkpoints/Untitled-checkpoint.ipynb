{
 "cells": [
  {
   "cell_type": "code",
   "execution_count": 1,
   "id": "c3891800",
   "metadata": {},
   "outputs": [],
   "source": [
    "from tkinter import *\n",
    "import pytube\n",
    "\n",
    "def geturl():\n",
    "    try:\n",
    "        url= urllink.get()\n",
    "        youtube = pytube.YouTube(url)\n",
    "        video = youtube.streams.get_highest_resolution()\n",
    "        downloading = Label(root, text = \"Downloading\")\n",
    "        downloading.pack()\n",
    "        video.download()\n",
    "    except:\n",
    "        download_error = Label(root, text = \"Sorry Enter a correct Youtube URL\")\n",
    "        download_error.pack()\n",
    "        \n",
    "    \n",
    "root = Tk()\n",
    "\n",
    "myLabel = Label(root, text = \"Enter the Url\", width = 150)\n",
    "myLabel.pack()\n",
    "urllink = Entry(root, width = 100)\n",
    "urllink.pack()\n",
    "\n",
    "download = Button(root,text = \"Download\", command = geturl)\n",
    "download.pack()\n",
    "\n",
    "\n",
    "root.mainloop()"
   ]
  },
  {
   "cell_type": "code",
   "execution_count": null,
   "id": "1c7e4725",
   "metadata": {},
   "outputs": [],
   "source": [
    "from pytube import YouTube\n",
    "\n",
    "video = YouTube(\"word\")\n",
    "print(video)\n",
    "# video = video.streams.get_highest_resolution()\n",
    "# video\n"
   ]
  },
  {
   "cell_type": "code",
   "execution_count": null,
   "id": "ac0c3a3c",
   "metadata": {},
   "outputs": [],
   "source": [
    "from pytube import YouTube\n",
    "\n",
    "\n",
    "try:\n",
    "    video = YouTube(\"https://www.youtube.com/watch?v=X3paOmcrTjQ\")\n",
    "    print(video)\n",
    "except:\n",
    "    print(\"Sorry wrong\")\n",
    "\n",
    "    "
   ]
  },
  {
   "cell_type": "code",
   "execution_count": null,
   "id": "a3c67c69",
   "metadata": {},
   "outputs": [],
   "source": []
  }
 ],
 "metadata": {
  "kernelspec": {
   "display_name": "Python 3 (ipykernel)",
   "language": "python",
   "name": "python3"
  },
  "language_info": {
   "codemirror_mode": {
    "name": "ipython",
    "version": 3
   },
   "file_extension": ".py",
   "mimetype": "text/x-python",
   "name": "python",
   "nbconvert_exporter": "python",
   "pygments_lexer": "ipython3",
   "version": "3.9.7"
  }
 },
 "nbformat": 4,
 "nbformat_minor": 5
}
